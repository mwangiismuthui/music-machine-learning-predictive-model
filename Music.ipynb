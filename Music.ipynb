{
 "cells": [
  {
   "cell_type": "code",
   "execution_count": 85,
   "id": "1a05b74f",
   "metadata": {},
   "outputs": [],
   "source": [
    "# import pandas as pd # python dataframe \n",
    "from sklearn.tree import DecisionTreeClassifier #Enables us to use the Decision tree algorithim to train our model\n",
    "from sklearn.metrics import accuracy_score #measuring the accuracy of the predicting model \n",
    "from sklearn.model_selection import train_test_split #splits the dataset into training set and testing set \n",
    "import joblib # this has functions for saving and loading models\n",
    "from sklearn import tree #this object has a method for exporting our decision tree in a graphical formart  \n",
    "\n",
    "\n",
    "music_data = pd.read_csv('music.csv')\n",
    "#  # This is the Input set\n",
    "X = music_data.drop(columns=['genre'])\n",
    "# # This is the Output set \n",
    "y = music_data['genre']\n",
    "\n",
    "# #Here we are splitting our data into a training set and a testing set to train our model \n",
    "# #test_size it the percentage of our data that we want to use to train out model \n",
    "# # The more data we use to train our model the more accurate our model will be in making the predictions \n",
    "# X_train, X_test ,y_train , y_test = train_test_split(X,y,test_size=0.2)\n",
    "model = DecisionTreeClassifier()\n",
    "model.fit(X,y)\n",
    "# model.fit(X_train,y_train)\n",
    "# predictions = model.predict(X_test)\n",
    "# score = accuracy_score(y_test,predictions)\n",
    "# score\n",
    "\n",
    "# Not everytime we train models from a given dataset for it to predict . We can save the trained model into a file and later \n",
    "# load it so that it can help us in predictions \n",
    "# joblib.dump(model, 'music-recommender.joblib')\n",
    "# model = joblib.load('music-recommender.joblib')\n",
    "# predictions = model.predict([[21,0]])\n",
    "# print(predictions)\n",
    "\n",
    "# This is the code to visualize the decision tree \n",
    "tree.export_graphviz(model, out_file='music-recommendor.dot',feature_names=['age','gender'],class_names=sorted(y.unique()),\n",
    "                    label='all',rounded=True, filled= True)\n",
    "\n",
    "\n"
   ]
  }
 ],
 "metadata": {
  "kernelspec": {
   "display_name": "Python 3 (ipykernel)",
   "language": "python",
   "name": "python3"
  },
  "language_info": {
   "codemirror_mode": {
    "name": "ipython",
    "version": 3
   },
   "file_extension": ".py",
   "mimetype": "text/x-python",
   "name": "python",
   "nbconvert_exporter": "python",
   "pygments_lexer": "ipython3",
   "version": "3.9.13"
  }
 },
 "nbformat": 4,
 "nbformat_minor": 5
}
